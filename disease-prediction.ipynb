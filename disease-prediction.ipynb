{
 "cells": [
  {
   "cell_type": "code",
   "execution_count": 1,
   "id": "0b15448c",
   "metadata": {
    "_cell_guid": "b1076dfc-b9ad-4769-8c92-a6c4dae69d19",
    "_uuid": "8f2839f25d086af736a60e9eeb907d3b93b6e0e5",
    "execution": {
     "iopub.execute_input": "2023-05-26T09:32:51.153070Z",
     "iopub.status.busy": "2023-05-26T09:32:51.152684Z",
     "iopub.status.idle": "2023-05-26T09:32:51.177356Z",
     "shell.execute_reply": "2023-05-26T09:32:51.176069Z"
    },
    "papermill": {
     "duration": 0.037026,
     "end_time": "2023-05-26T09:32:51.179941",
     "exception": false,
     "start_time": "2023-05-26T09:32:51.142915",
     "status": "completed"
    },
    "tags": []
   },
   "outputs": [
    {
     "name": "stdout",
     "output_type": "stream",
     "text": [
      "/kaggle/input/dementia-prediction-dataset/dementia_dataset.csv\n"
     ]
    }
   ],
   "source": [
    "import numpy as np # linear algebra\n",
    "import pandas as pd # data processing, CSV file I/O (e.g. pd.read_csv)"
   ]
  },
  {
   "cell_type": "code",
   "execution_count": 2,
   "id": "fa545bf5",
   "metadata": {
    "execution": {
     "iopub.execute_input": "2023-05-26T09:32:51.198020Z",
     "iopub.status.busy": "2023-05-26T09:32:51.197641Z",
     "iopub.status.idle": "2023-05-26T09:32:51.228431Z",
     "shell.execute_reply": "2023-05-26T09:32:51.227423Z"
    },
    "papermill": {
     "duration": 0.042591,
     "end_time": "2023-05-26T09:32:51.230795",
     "exception": false,
     "start_time": "2023-05-26T09:32:51.188204",
     "status": "completed"
    },
    "tags": []
   },
   "outputs": [
    {
     "name": "stdout",
     "output_type": "stream",
     "text": [
      "(373, 15)\n"
     ]
    }
   ],
   "source": [
    "# Reading the CSV file into a DataFrame\n",
    "df1 = pd.read_csv('/kaggle/input/dementia-prediction-dataset/dementia_dataset.csv')\n",
    "\n",
    "# Printing the shape of the DataFrame\n",
    "print(df1.shape)"
   ]
  },
  {
   "attachments": {},
   "cell_type": "markdown",
   "id": "2e82f7b4",
   "metadata": {
    "papermill": {
     "duration": 0.007593,
     "end_time": "2023-05-26T09:32:51.246327",
     "exception": false,
     "start_time": "2023-05-26T09:32:51.238734",
     "status": "completed"
    },
    "tags": []
   },
   "source": [
    "Features in Dementia database\n",
    "* SubjectID: Unique Identifier for individual subjects\n",
    "* MRI ID: Unique identifier for each test. One subject may have more than one MRI ID\n",
    "* Group: Class label\n",
    "* Visit: Number of times a subject has visited for test\n",
    "* MRDelay: Delay of visit by a subject since last visit (Number of days)\n",
    "* CDR Clinical dementia rating\n",
    "* Gender: Male or Female\n",
    "* SES: Socio Economic Status assessed by hollingshead index of social position\n",
    "* MMSE: Mini Mental State Examination Value\n",
    "* eTIV: Estimated total intracranial volume\n",
    "* nWBV: Normalized whole-brain volume, expressed as a percent of all voxels (“constant” for any value of estimated total intracranial volume)\n",
    "* ASF: Atlas Scale Factor; volume scaling factor for brain size (“constant” for any value of estimated total intracranial volume)"
   ]
  },
  {
   "cell_type": "code",
   "execution_count": 3,
   "id": "81d22026",
   "metadata": {
    "execution": {
     "iopub.execute_input": "2023-05-26T09:32:51.264540Z",
     "iopub.status.busy": "2023-05-26T09:32:51.263393Z",
     "iopub.status.idle": "2023-05-26T09:32:51.301395Z",
     "shell.execute_reply": "2023-05-26T09:32:51.300470Z"
    },
    "papermill": {
     "duration": 0.049854,
     "end_time": "2023-05-26T09:32:51.304094",
     "exception": false,
     "start_time": "2023-05-26T09:32:51.254240",
     "status": "completed"
    },
    "tags": []
   },
   "outputs": [
    {
     "data": {
      "text/html": [
       "<div>\n",
       "<style scoped>\n",
       "    .dataframe tbody tr th:only-of-type {\n",
       "        vertical-align: middle;\n",
       "    }\n",
       "\n",
       "    .dataframe tbody tr th {\n",
       "        vertical-align: top;\n",
       "    }\n",
       "\n",
       "    .dataframe thead th {\n",
       "        text-align: right;\n",
       "    }\n",
       "</style>\n",
       "<table border=\"1\" class=\"dataframe\">\n",
       "  <thead>\n",
       "    <tr style=\"text-align: right;\">\n",
       "      <th></th>\n",
       "      <th>Subject ID</th>\n",
       "      <th>MRI ID</th>\n",
       "      <th>Group</th>\n",
       "      <th>Visit</th>\n",
       "      <th>MR Delay</th>\n",
       "      <th>M/F</th>\n",
       "      <th>Hand</th>\n",
       "      <th>Age</th>\n",
       "      <th>EDUC</th>\n",
       "      <th>SES</th>\n",
       "      <th>MMSE</th>\n",
       "      <th>CDR</th>\n",
       "      <th>eTIV</th>\n",
       "      <th>nWBV</th>\n",
       "      <th>ASF</th>\n",
       "    </tr>\n",
       "  </thead>\n",
       "  <tbody>\n",
       "    <tr>\n",
       "      <th>0</th>\n",
       "      <td>OAS2_0001</td>\n",
       "      <td>OAS2_0001_MR1</td>\n",
       "      <td>Nondemented</td>\n",
       "      <td>1</td>\n",
       "      <td>0</td>\n",
       "      <td>M</td>\n",
       "      <td>R</td>\n",
       "      <td>87</td>\n",
       "      <td>14</td>\n",
       "      <td>2.0</td>\n",
       "      <td>27.0</td>\n",
       "      <td>0.0</td>\n",
       "      <td>1987</td>\n",
       "      <td>0.696</td>\n",
       "      <td>0.883</td>\n",
       "    </tr>\n",
       "    <tr>\n",
       "      <th>1</th>\n",
       "      <td>OAS2_0001</td>\n",
       "      <td>OAS2_0001_MR2</td>\n",
       "      <td>Nondemented</td>\n",
       "      <td>2</td>\n",
       "      <td>457</td>\n",
       "      <td>M</td>\n",
       "      <td>R</td>\n",
       "      <td>88</td>\n",
       "      <td>14</td>\n",
       "      <td>2.0</td>\n",
       "      <td>30.0</td>\n",
       "      <td>0.0</td>\n",
       "      <td>2004</td>\n",
       "      <td>0.681</td>\n",
       "      <td>0.876</td>\n",
       "    </tr>\n",
       "    <tr>\n",
       "      <th>2</th>\n",
       "      <td>OAS2_0002</td>\n",
       "      <td>OAS2_0002_MR1</td>\n",
       "      <td>Demented</td>\n",
       "      <td>1</td>\n",
       "      <td>0</td>\n",
       "      <td>M</td>\n",
       "      <td>R</td>\n",
       "      <td>75</td>\n",
       "      <td>12</td>\n",
       "      <td>NaN</td>\n",
       "      <td>23.0</td>\n",
       "      <td>0.5</td>\n",
       "      <td>1678</td>\n",
       "      <td>0.736</td>\n",
       "      <td>1.046</td>\n",
       "    </tr>\n",
       "    <tr>\n",
       "      <th>3</th>\n",
       "      <td>OAS2_0002</td>\n",
       "      <td>OAS2_0002_MR2</td>\n",
       "      <td>Demented</td>\n",
       "      <td>2</td>\n",
       "      <td>560</td>\n",
       "      <td>M</td>\n",
       "      <td>R</td>\n",
       "      <td>76</td>\n",
       "      <td>12</td>\n",
       "      <td>NaN</td>\n",
       "      <td>28.0</td>\n",
       "      <td>0.5</td>\n",
       "      <td>1738</td>\n",
       "      <td>0.713</td>\n",
       "      <td>1.010</td>\n",
       "    </tr>\n",
       "    <tr>\n",
       "      <th>4</th>\n",
       "      <td>OAS2_0002</td>\n",
       "      <td>OAS2_0002_MR3</td>\n",
       "      <td>Demented</td>\n",
       "      <td>3</td>\n",
       "      <td>1895</td>\n",
       "      <td>M</td>\n",
       "      <td>R</td>\n",
       "      <td>80</td>\n",
       "      <td>12</td>\n",
       "      <td>NaN</td>\n",
       "      <td>22.0</td>\n",
       "      <td>0.5</td>\n",
       "      <td>1698</td>\n",
       "      <td>0.701</td>\n",
       "      <td>1.034</td>\n",
       "    </tr>\n",
       "  </tbody>\n",
       "</table>\n",
       "</div>"
      ],
      "text/plain": [
       "  Subject ID         MRI ID        Group  Visit  MR Delay M/F Hand  Age  EDUC  \\\n",
       "0  OAS2_0001  OAS2_0001_MR1  Nondemented      1         0   M    R   87    14   \n",
       "1  OAS2_0001  OAS2_0001_MR2  Nondemented      2       457   M    R   88    14   \n",
       "2  OAS2_0002  OAS2_0002_MR1     Demented      1         0   M    R   75    12   \n",
       "3  OAS2_0002  OAS2_0002_MR2     Demented      2       560   M    R   76    12   \n",
       "4  OAS2_0002  OAS2_0002_MR3     Demented      3      1895   M    R   80    12   \n",
       "\n",
       "   SES  MMSE  CDR  eTIV   nWBV    ASF  \n",
       "0  2.0  27.0  0.0  1987  0.696  0.883  \n",
       "1  2.0  30.0  0.0  2004  0.681  0.876  \n",
       "2  NaN  23.0  0.5  1678  0.736  1.046  \n",
       "3  NaN  28.0  0.5  1738  0.713  1.010  \n",
       "4  NaN  22.0  0.5  1698  0.701  1.034  "
      ]
     },
     "execution_count": 3,
     "metadata": {},
     "output_type": "execute_result"
    }
   ],
   "source": [
    "df1.head(5)"
   ]
  },
  {
   "cell_type": "code",
   "execution_count": 4,
   "id": "3d505117",
   "metadata": {
    "execution": {
     "iopub.execute_input": "2023-05-26T09:32:51.324703Z",
     "iopub.status.busy": "2023-05-26T09:32:51.323996Z",
     "iopub.status.idle": "2023-05-26T09:32:51.334430Z",
     "shell.execute_reply": "2023-05-26T09:32:51.333260Z"
    },
    "papermill": {
     "duration": 0.024292,
     "end_time": "2023-05-26T09:32:51.337032",
     "exception": false,
     "start_time": "2023-05-26T09:32:51.312740",
     "status": "completed"
    },
    "tags": []
   },
   "outputs": [
    {
     "data": {
      "text/plain": [
       "array(['Nondemented', 'Demented', 'Converted'], dtype=object)"
      ]
     },
     "execution_count": 4,
     "metadata": {},
     "output_type": "execute_result"
    }
   ],
   "source": [
    "# Checking unique values in column 'Group'\n",
    "df1['Group'].unique()"
   ]
  },
  {
   "attachments": {},
   "cell_type": "markdown",
   "id": "bae9ae33",
   "metadata": {
    "papermill": {
     "duration": 0.008165,
     "end_time": "2023-05-26T09:32:51.353792",
     "exception": false,
     "start_time": "2023-05-26T09:32:51.345627",
     "status": "completed"
    },
    "tags": []
   },
   "source": [
    "The first two groups of subjects are 'Demented' and 'Non-demented' in which the patient has the Dementia or not, respectively. Patients that develop the Dementia during the tests are grouped as 'Converted', for making this model more generalized towards classification of the disease, I changed the subject's group from 'Converted' to 'Nondemented' for all the previous visits and for the final visit to 'Demented'."
   ]
  },
  {
   "cell_type": "code",
   "execution_count": 5,
   "id": "5c373558",
   "metadata": {
    "execution": {
     "iopub.execute_input": "2023-05-26T09:32:51.373340Z",
     "iopub.status.busy": "2023-05-26T09:32:51.372395Z",
     "iopub.status.idle": "2023-05-26T09:32:51.406649Z",
     "shell.execute_reply": "2023-05-26T09:32:51.405457Z"
    },
    "papermill": {
     "duration": 0.046942,
     "end_time": "2023-05-26T09:32:51.409242",
     "exception": false,
     "start_time": "2023-05-26T09:32:51.362300",
     "status": "completed"
    },
    "tags": []
   },
   "outputs": [
    {
     "data": {
      "text/html": [
       "<div>\n",
       "<style scoped>\n",
       "    .dataframe tbody tr th:only-of-type {\n",
       "        vertical-align: middle;\n",
       "    }\n",
       "\n",
       "    .dataframe tbody tr th {\n",
       "        vertical-align: top;\n",
       "    }\n",
       "\n",
       "    .dataframe thead th {\n",
       "        text-align: right;\n",
       "    }\n",
       "</style>\n",
       "<table border=\"1\" class=\"dataframe\">\n",
       "  <thead>\n",
       "    <tr style=\"text-align: right;\">\n",
       "      <th></th>\n",
       "      <th>Subject ID</th>\n",
       "      <th>MRI ID</th>\n",
       "      <th>Group</th>\n",
       "      <th>Visit</th>\n",
       "      <th>MR Delay</th>\n",
       "      <th>M/F</th>\n",
       "      <th>Hand</th>\n",
       "      <th>Age</th>\n",
       "      <th>EDUC</th>\n",
       "      <th>SES</th>\n",
       "      <th>MMSE</th>\n",
       "      <th>CDR</th>\n",
       "      <th>eTIV</th>\n",
       "      <th>nWBV</th>\n",
       "      <th>ASF</th>\n",
       "    </tr>\n",
       "  </thead>\n",
       "  <tbody>\n",
       "    <tr>\n",
       "      <th>33</th>\n",
       "      <td>OAS2_0018</td>\n",
       "      <td>OAS2_0018_MR1</td>\n",
       "      <td>Converted</td>\n",
       "      <td>1</td>\n",
       "      <td>0</td>\n",
       "      <td>F</td>\n",
       "      <td>R</td>\n",
       "      <td>87</td>\n",
       "      <td>14</td>\n",
       "      <td>1.0</td>\n",
       "      <td>30.0</td>\n",
       "      <td>0.0</td>\n",
       "      <td>1406</td>\n",
       "      <td>0.715</td>\n",
       "      <td>1.248</td>\n",
       "    </tr>\n",
       "    <tr>\n",
       "      <th>34</th>\n",
       "      <td>OAS2_0018</td>\n",
       "      <td>OAS2_0018_MR3</td>\n",
       "      <td>Converted</td>\n",
       "      <td>3</td>\n",
       "      <td>489</td>\n",
       "      <td>F</td>\n",
       "      <td>R</td>\n",
       "      <td>88</td>\n",
       "      <td>14</td>\n",
       "      <td>1.0</td>\n",
       "      <td>29.0</td>\n",
       "      <td>0.0</td>\n",
       "      <td>1398</td>\n",
       "      <td>0.713</td>\n",
       "      <td>1.255</td>\n",
       "    </tr>\n",
       "    <tr>\n",
       "      <th>35</th>\n",
       "      <td>OAS2_0018</td>\n",
       "      <td>OAS2_0018_MR4</td>\n",
       "      <td>Converted</td>\n",
       "      <td>4</td>\n",
       "      <td>1933</td>\n",
       "      <td>F</td>\n",
       "      <td>R</td>\n",
       "      <td>92</td>\n",
       "      <td>14</td>\n",
       "      <td>1.0</td>\n",
       "      <td>27.0</td>\n",
       "      <td>0.5</td>\n",
       "      <td>1423</td>\n",
       "      <td>0.696</td>\n",
       "      <td>1.234</td>\n",
       "    </tr>\n",
       "    <tr>\n",
       "      <th>36</th>\n",
       "      <td>OAS2_0020</td>\n",
       "      <td>OAS2_0020_MR1</td>\n",
       "      <td>Converted</td>\n",
       "      <td>1</td>\n",
       "      <td>0</td>\n",
       "      <td>M</td>\n",
       "      <td>R</td>\n",
       "      <td>80</td>\n",
       "      <td>20</td>\n",
       "      <td>1.0</td>\n",
       "      <td>29.0</td>\n",
       "      <td>0.0</td>\n",
       "      <td>1587</td>\n",
       "      <td>0.693</td>\n",
       "      <td>1.106</td>\n",
       "    </tr>\n",
       "    <tr>\n",
       "      <th>37</th>\n",
       "      <td>OAS2_0020</td>\n",
       "      <td>OAS2_0020_MR2</td>\n",
       "      <td>Converted</td>\n",
       "      <td>2</td>\n",
       "      <td>756</td>\n",
       "      <td>M</td>\n",
       "      <td>R</td>\n",
       "      <td>82</td>\n",
       "      <td>20</td>\n",
       "      <td>1.0</td>\n",
       "      <td>28.0</td>\n",
       "      <td>0.5</td>\n",
       "      <td>1606</td>\n",
       "      <td>0.677</td>\n",
       "      <td>1.093</td>\n",
       "    </tr>\n",
       "    <tr>\n",
       "      <th>38</th>\n",
       "      <td>OAS2_0020</td>\n",
       "      <td>OAS2_0020_MR3</td>\n",
       "      <td>Converted</td>\n",
       "      <td>3</td>\n",
       "      <td>1563</td>\n",
       "      <td>M</td>\n",
       "      <td>R</td>\n",
       "      <td>84</td>\n",
       "      <td>20</td>\n",
       "      <td>1.0</td>\n",
       "      <td>26.0</td>\n",
       "      <td>0.5</td>\n",
       "      <td>1597</td>\n",
       "      <td>0.666</td>\n",
       "      <td>1.099</td>\n",
       "    </tr>\n",
       "    <tr>\n",
       "      <th>57</th>\n",
       "      <td>OAS2_0031</td>\n",
       "      <td>OAS2_0031_MR1</td>\n",
       "      <td>Converted</td>\n",
       "      <td>1</td>\n",
       "      <td>0</td>\n",
       "      <td>F</td>\n",
       "      <td>R</td>\n",
       "      <td>86</td>\n",
       "      <td>12</td>\n",
       "      <td>3.0</td>\n",
       "      <td>30.0</td>\n",
       "      <td>0.0</td>\n",
       "      <td>1430</td>\n",
       "      <td>0.718</td>\n",
       "      <td>1.227</td>\n",
       "    </tr>\n",
       "    <tr>\n",
       "      <th>58</th>\n",
       "      <td>OAS2_0031</td>\n",
       "      <td>OAS2_0031_MR2</td>\n",
       "      <td>Converted</td>\n",
       "      <td>2</td>\n",
       "      <td>446</td>\n",
       "      <td>F</td>\n",
       "      <td>R</td>\n",
       "      <td>88</td>\n",
       "      <td>12</td>\n",
       "      <td>3.0</td>\n",
       "      <td>30.0</td>\n",
       "      <td>0.0</td>\n",
       "      <td>1445</td>\n",
       "      <td>0.719</td>\n",
       "      <td>1.215</td>\n",
       "    </tr>\n",
       "    <tr>\n",
       "      <th>59</th>\n",
       "      <td>OAS2_0031</td>\n",
       "      <td>OAS2_0031_MR3</td>\n",
       "      <td>Converted</td>\n",
       "      <td>3</td>\n",
       "      <td>1588</td>\n",
       "      <td>F</td>\n",
       "      <td>R</td>\n",
       "      <td>91</td>\n",
       "      <td>12</td>\n",
       "      <td>3.0</td>\n",
       "      <td>28.0</td>\n",
       "      <td>0.5</td>\n",
       "      <td>1463</td>\n",
       "      <td>0.696</td>\n",
       "      <td>1.199</td>\n",
       "    </tr>\n",
       "    <tr>\n",
       "      <th>81</th>\n",
       "      <td>OAS2_0041</td>\n",
       "      <td>OAS2_0041_MR1</td>\n",
       "      <td>Converted</td>\n",
       "      <td>1</td>\n",
       "      <td>0</td>\n",
       "      <td>F</td>\n",
       "      <td>R</td>\n",
       "      <td>71</td>\n",
       "      <td>16</td>\n",
       "      <td>1.0</td>\n",
       "      <td>27.0</td>\n",
       "      <td>0.0</td>\n",
       "      <td>1289</td>\n",
       "      <td>0.771</td>\n",
       "      <td>1.362</td>\n",
       "    </tr>\n",
       "  </tbody>\n",
       "</table>\n",
       "</div>"
      ],
      "text/plain": [
       "   Subject ID         MRI ID      Group  Visit  MR Delay M/F Hand  Age  EDUC  \\\n",
       "33  OAS2_0018  OAS2_0018_MR1  Converted      1         0   F    R   87    14   \n",
       "34  OAS2_0018  OAS2_0018_MR3  Converted      3       489   F    R   88    14   \n",
       "35  OAS2_0018  OAS2_0018_MR4  Converted      4      1933   F    R   92    14   \n",
       "36  OAS2_0020  OAS2_0020_MR1  Converted      1         0   M    R   80    20   \n",
       "37  OAS2_0020  OAS2_0020_MR2  Converted      2       756   M    R   82    20   \n",
       "38  OAS2_0020  OAS2_0020_MR3  Converted      3      1563   M    R   84    20   \n",
       "57  OAS2_0031  OAS2_0031_MR1  Converted      1         0   F    R   86    12   \n",
       "58  OAS2_0031  OAS2_0031_MR2  Converted      2       446   F    R   88    12   \n",
       "59  OAS2_0031  OAS2_0031_MR3  Converted      3      1588   F    R   91    12   \n",
       "81  OAS2_0041  OAS2_0041_MR1  Converted      1         0   F    R   71    16   \n",
       "\n",
       "    SES  MMSE  CDR  eTIV   nWBV    ASF  \n",
       "33  1.0  30.0  0.0  1406  0.715  1.248  \n",
       "34  1.0  29.0  0.0  1398  0.713  1.255  \n",
       "35  1.0  27.0  0.5  1423  0.696  1.234  \n",
       "36  1.0  29.0  0.0  1587  0.693  1.106  \n",
       "37  1.0  28.0  0.5  1606  0.677  1.093  \n",
       "38  1.0  26.0  0.5  1597  0.666  1.099  \n",
       "57  3.0  30.0  0.0  1430  0.718  1.227  \n",
       "58  3.0  30.0  0.0  1445  0.719  1.215  \n",
       "59  3.0  28.0  0.5  1463  0.696  1.199  \n",
       "81  1.0  27.0  0.0  1289  0.771  1.362  "
      ]
     },
     "execution_count": 5,
     "metadata": {},
     "output_type": "execute_result"
    }
   ],
   "source": [
    "# Filtering rows in df1 where the 'Group' column is equal to 'Converted' and assigning them to df2\n",
    "df2 = df1.loc[df1['Group'] == 'Converted']\n",
    "\n",
    "# Dropping the rows from df1 that have been assigned to df2 using the corresponding index values\n",
    "df1 = df1.drop(df2.index)\n",
    "\n",
    "df2.head(10)"
   ]
  },
  {
   "cell_type": "code",
   "execution_count": 6,
   "id": "6d5eeeb3",
   "metadata": {
    "execution": {
     "iopub.execute_input": "2023-05-26T09:32:51.429056Z",
     "iopub.status.busy": "2023-05-26T09:32:51.428667Z",
     "iopub.status.idle": "2023-05-26T09:32:51.460642Z",
     "shell.execute_reply": "2023-05-26T09:32:51.459681Z"
    },
    "papermill": {
     "duration": 0.044937,
     "end_time": "2023-05-26T09:32:51.463023",
     "exception": false,
     "start_time": "2023-05-26T09:32:51.418086",
     "status": "completed"
    },
    "tags": []
   },
   "outputs": [
    {
     "data": {
      "text/html": [
       "<div>\n",
       "<style scoped>\n",
       "    .dataframe tbody tr th:only-of-type {\n",
       "        vertical-align: middle;\n",
       "    }\n",
       "\n",
       "    .dataframe tbody tr th {\n",
       "        vertical-align: top;\n",
       "    }\n",
       "\n",
       "    .dataframe thead th {\n",
       "        text-align: right;\n",
       "    }\n",
       "</style>\n",
       "<table border=\"1\" class=\"dataframe\">\n",
       "  <thead>\n",
       "    <tr style=\"text-align: right;\">\n",
       "      <th></th>\n",
       "      <th>Subject ID</th>\n",
       "      <th>MRI ID</th>\n",
       "      <th>Group</th>\n",
       "      <th>Visit</th>\n",
       "      <th>MR Delay</th>\n",
       "      <th>M/F</th>\n",
       "      <th>Hand</th>\n",
       "      <th>Age</th>\n",
       "      <th>EDUC</th>\n",
       "      <th>SES</th>\n",
       "      <th>MMSE</th>\n",
       "      <th>CDR</th>\n",
       "      <th>eTIV</th>\n",
       "      <th>nWBV</th>\n",
       "      <th>ASF</th>\n",
       "    </tr>\n",
       "  </thead>\n",
       "  <tbody>\n",
       "    <tr>\n",
       "      <th>33</th>\n",
       "      <td>OAS2_0018</td>\n",
       "      <td>OAS2_0018_MR1</td>\n",
       "      <td>Nondemented</td>\n",
       "      <td>1</td>\n",
       "      <td>0</td>\n",
       "      <td>F</td>\n",
       "      <td>R</td>\n",
       "      <td>87</td>\n",
       "      <td>14</td>\n",
       "      <td>1.0</td>\n",
       "      <td>30.0</td>\n",
       "      <td>0.0</td>\n",
       "      <td>1406</td>\n",
       "      <td>0.715</td>\n",
       "      <td>1.248</td>\n",
       "    </tr>\n",
       "    <tr>\n",
       "      <th>34</th>\n",
       "      <td>OAS2_0018</td>\n",
       "      <td>OAS2_0018_MR3</td>\n",
       "      <td>Nondemented</td>\n",
       "      <td>3</td>\n",
       "      <td>489</td>\n",
       "      <td>F</td>\n",
       "      <td>R</td>\n",
       "      <td>88</td>\n",
       "      <td>14</td>\n",
       "      <td>1.0</td>\n",
       "      <td>29.0</td>\n",
       "      <td>0.0</td>\n",
       "      <td>1398</td>\n",
       "      <td>0.713</td>\n",
       "      <td>1.255</td>\n",
       "    </tr>\n",
       "    <tr>\n",
       "      <th>35</th>\n",
       "      <td>OAS2_0018</td>\n",
       "      <td>OAS2_0018_MR4</td>\n",
       "      <td>Demented</td>\n",
       "      <td>4</td>\n",
       "      <td>1933</td>\n",
       "      <td>F</td>\n",
       "      <td>R</td>\n",
       "      <td>92</td>\n",
       "      <td>14</td>\n",
       "      <td>1.0</td>\n",
       "      <td>27.0</td>\n",
       "      <td>0.5</td>\n",
       "      <td>1423</td>\n",
       "      <td>0.696</td>\n",
       "      <td>1.234</td>\n",
       "    </tr>\n",
       "    <tr>\n",
       "      <th>36</th>\n",
       "      <td>OAS2_0020</td>\n",
       "      <td>OAS2_0020_MR1</td>\n",
       "      <td>Nondemented</td>\n",
       "      <td>1</td>\n",
       "      <td>0</td>\n",
       "      <td>M</td>\n",
       "      <td>R</td>\n",
       "      <td>80</td>\n",
       "      <td>20</td>\n",
       "      <td>1.0</td>\n",
       "      <td>29.0</td>\n",
       "      <td>0.0</td>\n",
       "      <td>1587</td>\n",
       "      <td>0.693</td>\n",
       "      <td>1.106</td>\n",
       "    </tr>\n",
       "    <tr>\n",
       "      <th>37</th>\n",
       "      <td>OAS2_0020</td>\n",
       "      <td>OAS2_0020_MR2</td>\n",
       "      <td>Nondemented</td>\n",
       "      <td>2</td>\n",
       "      <td>756</td>\n",
       "      <td>M</td>\n",
       "      <td>R</td>\n",
       "      <td>82</td>\n",
       "      <td>20</td>\n",
       "      <td>1.0</td>\n",
       "      <td>28.0</td>\n",
       "      <td>0.5</td>\n",
       "      <td>1606</td>\n",
       "      <td>0.677</td>\n",
       "      <td>1.093</td>\n",
       "    </tr>\n",
       "  </tbody>\n",
       "</table>\n",
       "</div>"
      ],
      "text/plain": [
       "   Subject ID         MRI ID        Group  Visit  MR Delay M/F Hand  Age  \\\n",
       "33  OAS2_0018  OAS2_0018_MR1  Nondemented      1         0   F    R   87   \n",
       "34  OAS2_0018  OAS2_0018_MR3  Nondemented      3       489   F    R   88   \n",
       "35  OAS2_0018  OAS2_0018_MR4     Demented      4      1933   F    R   92   \n",
       "36  OAS2_0020  OAS2_0020_MR1  Nondemented      1         0   M    R   80   \n",
       "37  OAS2_0020  OAS2_0020_MR2  Nondemented      2       756   M    R   82   \n",
       "\n",
       "    EDUC  SES  MMSE  CDR  eTIV   nWBV    ASF  \n",
       "33    14  1.0  30.0  0.0  1406  0.715  1.248  \n",
       "34    14  1.0  29.0  0.0  1398  0.713  1.255  \n",
       "35    14  1.0  27.0  0.5  1423  0.696  1.234  \n",
       "36    20  1.0  29.0  0.0  1587  0.693  1.106  \n",
       "37    20  1.0  28.0  0.5  1606  0.677  1.093  "
      ]
     },
     "execution_count": 6,
     "metadata": {},
     "output_type": "execute_result"
    }
   ],
   "source": [
    "# Creating a new column 'Last_Visit' to identify the last visit for each patient\n",
    "df2['Last_Visit'] = df2.groupby('Subject ID')['Visit'].transform('max')\n",
    "\n",
    "# Updating the 'Group' column based on 'Visit' and 'Last_Visit' conditions\n",
    "df2.loc[df2['Visit'] < df2['Last_Visit'], 'Group'] = 'Nondemented'\n",
    "df2.loc[df2['Visit'] == df2['Last_Visit'], 'Group'] = 'Demented'\n",
    "\n",
    "# Dropping the 'Last_Visit' column\n",
    "df2.drop('Last_Visit', axis=1, inplace=True)\n",
    "\n",
    "# Displaying the updated DataFrame\n",
    "df2.head(5)"
   ]
  },
  {
   "cell_type": "code",
   "execution_count": 7,
   "id": "d685df78",
   "metadata": {
    "execution": {
     "iopub.execute_input": "2023-05-26T09:32:51.483733Z",
     "iopub.status.busy": "2023-05-26T09:32:51.483304Z",
     "iopub.status.idle": "2023-05-26T09:32:51.493615Z",
     "shell.execute_reply": "2023-05-26T09:32:51.492444Z"
    },
    "papermill": {
     "duration": 0.023784,
     "end_time": "2023-05-26T09:32:51.496124",
     "exception": false,
     "start_time": "2023-05-26T09:32:51.472340",
     "status": "completed"
    },
    "tags": []
   },
   "outputs": [
    {
     "data": {
      "text/plain": [
       "array(['Nondemented', 'Demented'], dtype=object)"
      ]
     },
     "execution_count": 7,
     "metadata": {},
     "output_type": "execute_result"
    }
   ],
   "source": [
    "# Combining the DataFrames df1 and df2\n",
    "frames = [df1, df2]\n",
    "df = pd.concat(frames)\n",
    "\n",
    "df['Group'].unique()"
   ]
  },
  {
   "cell_type": "code",
   "execution_count": 8,
   "id": "3a784f37",
   "metadata": {
    "execution": {
     "iopub.execute_input": "2023-05-26T09:32:51.518033Z",
     "iopub.status.busy": "2023-05-26T09:32:51.517322Z",
     "iopub.status.idle": "2023-05-26T09:32:51.525041Z",
     "shell.execute_reply": "2023-05-26T09:32:51.523891Z"
    },
    "papermill": {
     "duration": 0.021442,
     "end_time": "2023-05-26T09:32:51.527460",
     "exception": false,
     "start_time": "2023-05-26T09:32:51.506018",
     "status": "completed"
    },
    "tags": []
   },
   "outputs": [],
   "source": [
    "# Renaming the 'M/F' column to 'Gender' in the DataFrame\n",
    "df.rename(columns={'M/F': 'Gender'}, inplace=True)\n",
    "\n",
    "# Dropping unnecessary columns from the DataFrame\n",
    "df.drop(columns=['Subject ID', 'MRI ID', 'Hand', 'Visit', 'MR Delay'], inplace=True)"
   ]
  },
  {
   "cell_type": "code",
   "execution_count": 9,
   "id": "705c0dba",
   "metadata": {
    "execution": {
     "iopub.execute_input": "2023-05-26T09:32:51.548158Z",
     "iopub.status.busy": "2023-05-26T09:32:51.547746Z",
     "iopub.status.idle": "2023-05-26T09:32:51.557536Z",
     "shell.execute_reply": "2023-05-26T09:32:51.556398Z"
    },
    "papermill": {
     "duration": 0.023133,
     "end_time": "2023-05-26T09:32:51.559990",
     "exception": false,
     "start_time": "2023-05-26T09:32:51.536857",
     "status": "completed"
    },
    "tags": []
   },
   "outputs": [
    {
     "data": {
      "text/plain": [
       "Group      0\n",
       "Gender     0\n",
       "Age        0\n",
       "EDUC       0\n",
       "SES       19\n",
       "MMSE       2\n",
       "CDR        0\n",
       "eTIV       0\n",
       "nWBV       0\n",
       "ASF        0\n",
       "dtype: int64"
      ]
     },
     "execution_count": 9,
     "metadata": {},
     "output_type": "execute_result"
    }
   ],
   "source": [
    "# Checking for missing values in the DataFrame\n",
    "df.isna().sum()"
   ]
  },
  {
   "cell_type": "code",
   "execution_count": 10,
   "id": "9f073929",
   "metadata": {
    "execution": {
     "iopub.execute_input": "2023-05-26T09:32:51.581025Z",
     "iopub.status.busy": "2023-05-26T09:32:51.580636Z",
     "iopub.status.idle": "2023-05-26T09:32:51.596094Z",
     "shell.execute_reply": "2023-05-26T09:32:51.594976Z"
    },
    "papermill": {
     "duration": 0.028766,
     "end_time": "2023-05-26T09:32:51.598505",
     "exception": false,
     "start_time": "2023-05-26T09:32:51.569739",
     "status": "completed"
    },
    "tags": []
   },
   "outputs": [
    {
     "data": {
      "text/plain": [
       "Group     0\n",
       "Gender    0\n",
       "Age       0\n",
       "EDUC      0\n",
       "SES       0\n",
       "MMSE      0\n",
       "CDR       0\n",
       "eTIV      0\n",
       "nWBV      0\n",
       "ASF       0\n",
       "dtype: int64"
      ]
     },
     "execution_count": 10,
     "metadata": {},
     "output_type": "execute_result"
    }
   ],
   "source": [
    "# Imputing missing values in the 'SES' column with the mode\n",
    "df.SES.fillna(df.SES.mode()[0], inplace=True)\n",
    "\n",
    "# Imputing missing values in the 'MMSE' column with the mean\n",
    "df.MMSE.fillna(df.MMSE.mean(), inplace=True)\n",
    "\n",
    "df.isna().sum()"
   ]
  },
  {
   "cell_type": "code",
   "execution_count": 11,
   "id": "585de5d0",
   "metadata": {
    "execution": {
     "iopub.execute_input": "2023-05-26T09:32:51.619958Z",
     "iopub.status.busy": "2023-05-26T09:32:51.619539Z",
     "iopub.status.idle": "2023-05-26T09:32:53.468131Z",
     "shell.execute_reply": "2023-05-26T09:32:53.466800Z"
    },
    "papermill": {
     "duration": 1.862382,
     "end_time": "2023-05-26T09:32:53.470704",
     "exception": false,
     "start_time": "2023-05-26T09:32:51.608322",
     "status": "completed"
    },
    "tags": []
   },
   "outputs": [
    {
     "data": {
      "image/png": "[encoded data removed]",
      "text/plain": [
       "<Figure size 640x480 with 1 Axes>"
      ]
     },
     "metadata": {},
     "output_type": "display_data"
    }
   ],
   "source": [
    "import matplotlib.pyplot as plt\n",
    "import seaborn as sns\n",
    "\n",
    "# Creating a count plot with 'Group' on the x-axis\n",
    "sns.countplot(data=df, x='Group', palette='Set2').set(title = 'Dementia Group');"
   ]
  },
  {
   "cell_type": "code",
   "execution_count": 12,
   "id": "4b65ac38",
   "metadata": {
    "execution": {
     "iopub.execute_input": "2023-05-26T09:32:53.493098Z",
     "iopub.status.busy": "2023-05-26T09:32:53.492651Z",
     "iopub.status.idle": "2023-05-26T09:32:53.832861Z",
     "shell.execute_reply": "2023-05-26T09:32:53.831593Z"
    },
    "papermill": {
     "duration": 0.354504,
     "end_time": "2023-05-26T09:32:53.835539",
     "exception": false,
     "start_time": "2023-05-26T09:32:53.481035",
     "status": "completed"
    },
    "tags": []
   },
   "outputs": [
    {
     "data": {
      "image/png": "[encoded data removed]",
      "text/plain": [
       "<Figure size 640x480 with 1 Axes>"
      ]
     },
     "metadata": {},
     "output_type": "display_data"
    }
   ],
   "source": [
    "# Visualizing the distribution of 'Group' by 'Gender' using a count plot\n",
    "sns.countplot(data=df, x='Group', palette='Set2', hue='Gender').set(title = 'Dementia Group by Gender');"
   ]
  },
  {
   "cell_type": "code",
   "execution_count": 13,
   "id": "13ca9282",
   "metadata": {
    "execution": {
     "iopub.execute_input": "2023-05-26T09:32:53.859005Z",
     "iopub.status.busy": "2023-05-26T09:32:53.858543Z",
     "iopub.status.idle": "2023-05-26T09:32:54.994887Z",
     "shell.execute_reply": "2023-05-26T09:32:54.993782Z"
    },
    "papermill": {
     "duration": 1.150983,
     "end_time": "2023-05-26T09:32:54.997293",
     "exception": false,
     "start_time": "2023-05-26T09:32:53.846310",
     "status": "completed"
    },
    "tags": []
   },
   "outputs": [
    {
     "data": {
      "image/png": "[encoded data removed]",
      "text/plain": [
       "<Figure size 1148.62x500 with 2 Axes>"
      ]
     },
     "metadata": {},
     "output_type": "display_data"
    }
   ],
   "source": [
    "# Visualizing the distribution of Education for each 'Gender' and 'Group'\n",
    "sns.displot(data=df, x='EDUC', col='Gender', palette='Set2', hue='Group', kind='kde');"
   ]
  },
  {
   "cell_type": "code",
   "execution_count": 14,
   "id": "d7519725",
   "metadata": {
    "execution": {
     "iopub.execute_input": "2023-05-26T09:32:55.023280Z",
     "iopub.status.busy": "2023-05-26T09:32:55.022441Z",
     "iopub.status.idle": "2023-05-26T09:32:55.696043Z",
     "shell.execute_reply": "2023-05-26T09:32:55.694886Z"
    },
    "papermill": {
     "duration": 0.689428,
     "end_time": "2023-05-26T09:32:55.698605",
     "exception": false,
     "start_time": "2023-05-26T09:32:55.009177",
     "status": "completed"
    },
    "tags": []
   },
   "outputs": [
    {
     "data": {
      "image/png": "[encoded data removed]",
      "text/plain": [
       "<Figure size 648.625x500 with 1 Axes>"
      ]
     },
     "metadata": {},
     "output_type": "display_data"
    }
   ],
   "source": [
    "# Visualizing the distribution of 'Age' for each 'Group'\n",
    "sns.displot(data=df, x='Age', hue='Group', kind=\"kde\", palette='Set2');"
   ]
  },
  {
   "cell_type": "code",
   "execution_count": 15,
   "id": "5c72f5d9",
   "metadata": {
    "execution": {
     "iopub.execute_input": "2023-05-26T09:32:55.725651Z",
     "iopub.status.busy": "2023-05-26T09:32:55.724689Z",
     "iopub.status.idle": "2023-05-26T09:32:56.148024Z",
     "shell.execute_reply": "2023-05-26T09:32:56.146989Z"
    },
    "papermill": {
     "duration": 0.439326,
     "end_time": "2023-05-26T09:32:56.150355",
     "exception": false,
     "start_time": "2023-05-26T09:32:55.711029",
     "status": "completed"
    },
    "tags": []
   },
   "outputs": [
    {
     "data": {
      "image/png": "[encoded data removed]",
      "text/plain": [
       "<Figure size 640x480 with 2 Axes>"
      ]
     },
     "metadata": {},
     "output_type": "display_data"
    }
   ],
   "source": [
    "# Visualizing the correlation matrix of numeric columns using a heatmap\n",
    "sns.heatmap(df.corr(numeric_only=True), vmin=-1, cmap='coolwarm');"
   ]
  },
  {
   "cell_type": "code",
   "execution_count": 16,
   "id": "d88fdff7",
   "metadata": {
    "execution": {
     "iopub.execute_input": "2023-05-26T09:32:56.178755Z",
     "iopub.status.busy": "2023-05-26T09:32:56.177831Z",
     "iopub.status.idle": "2023-05-26T09:32:56.184349Z",
     "shell.execute_reply": "2023-05-26T09:32:56.183270Z"
    },
    "papermill": {
     "duration": 0.023454,
     "end_time": "2023-05-26T09:32:56.187188",
     "exception": false,
     "start_time": "2023-05-26T09:32:56.163734",
     "status": "completed"
    },
    "tags": []
   },
   "outputs": [],
   "source": [
    "# Asf and Etiv have a strong negative correlation, eliminating one of the two variables to reduce noise in the data\n",
    "df.drop(columns=['ASF'], inplace=True)"
   ]
  },
  {
   "cell_type": "code",
   "execution_count": 17,
   "id": "b5b32f1e",
   "metadata": {
    "execution": {
     "iopub.execute_input": "2023-05-26T09:32:56.214388Z",
     "iopub.status.busy": "2023-05-26T09:32:56.213963Z",
     "iopub.status.idle": "2023-05-26T09:32:56.658307Z",
     "shell.execute_reply": "2023-05-26T09:32:56.657230Z"
    },
    "papermill": {
     "duration": 0.461052,
     "end_time": "2023-05-26T09:32:56.660963",
     "exception": false,
     "start_time": "2023-05-26T09:32:56.199911",
     "status": "completed"
    },
    "tags": []
   },
   "outputs": [
    {
     "data": {
      "image/png": "[encoded data removed]",
      "text/plain": [
       "<Figure size 640x480 with 1 Axes>"
      ]
     },
     "metadata": {},
     "output_type": "display_data"
    }
   ],
   "source": [
    "# Visualizing the relationship between 'MMSE' and 'CDR' variables with respect to 'Group'\n",
    "sns.scatterplot(data=df, x='MMSE', y='CDR', palette='Set2', hue='Group');"
   ]
  },
  {
   "cell_type": "code",
   "execution_count": 18,
   "id": "853e3b67",
   "metadata": {
    "execution": {
     "iopub.execute_input": "2023-05-26T09:32:56.690337Z",
     "iopub.status.busy": "2023-05-26T09:32:56.689535Z",
     "iopub.status.idle": "2023-05-26T09:32:56.849974Z",
     "shell.execute_reply": "2023-05-26T09:32:56.848796Z"
    },
    "papermill": {
     "duration": 0.178028,
     "end_time": "2023-05-26T09:32:56.852766",
     "exception": false,
     "start_time": "2023-05-26T09:32:56.674738",
     "status": "completed"
    },
    "tags": []
   },
   "outputs": [
    {
     "name": "stdout",
     "output_type": "stream",
     "text": [
      "Sex:\n",
      "0 : F\n",
      "1 : M\n",
      "\n",
      "\n",
      "Group:\n",
      "0 : Demented\n",
      "1 : Nondemented\n"
     ]
    }
   ],
   "source": [
    "# Importing the necessary library for label encoding\n",
    "from sklearn.preprocessing import LabelEncoder\n",
    "\n",
    "# Creating an instance of the LabelEncoder class\n",
    "le = LabelEncoder()\n",
    "\n",
    "# Encoding the 'Gender' column in the DataFrame\n",
    "df.Gender = le.fit_transform(df.Gender.values)\n",
    "\n",
    "# Printing the mapping of encoded values to original classes for 'Gender'\n",
    "print(f'Sex:\\n0 : {le.classes_[0]}\\n1 : {le.classes_[1]}\\n\\n')\n",
    "\n",
    "df.Group = le.fit_transform(df.Group.values)\n",
    "print(f'Group:\\n0 : {le.classes_[0]}\\n1 : {le.classes_[1]}')"
   ]
  },
  {
   "cell_type": "code",
   "execution_count": 19,
   "id": "6066b697",
   "metadata": {
    "execution": {
     "iopub.execute_input": "2023-05-26T09:32:56.882830Z",
     "iopub.status.busy": "2023-05-26T09:32:56.882003Z",
     "iopub.status.idle": "2023-05-26T09:32:56.995157Z",
     "shell.execute_reply": "2023-05-26T09:32:56.993653Z"
    },
    "papermill": {
     "duration": 0.131451,
     "end_time": "2023-05-26T09:32:56.998144",
     "exception": false,
     "start_time": "2023-05-26T09:32:56.866693",
     "status": "completed"
    },
    "tags": []
   },
   "outputs": [],
   "source": [
    "# Importing the necessary library for train-test split\n",
    "from sklearn.model_selection import train_test_split\n",
    "\n",
    "# Assigning the 'Group' column as the target variable\n",
    "y = df.Group\n",
    "\n",
    "# Assigning the remaining columns as the features\n",
    "X = df.drop(['Group'], axis=1)\n",
    "\n",
    "# Performing the train-test split\n",
    "X_train, X_test, y_train, y_test = train_test_split(X, y, test_size=0.2, random_state=42)"
   ]
  },
  {
   "cell_type": "code",
   "execution_count": 20,
   "id": "876637a0",
   "metadata": {
    "execution": {
     "iopub.execute_input": "2023-05-26T09:32:57.027506Z",
     "iopub.status.busy": "2023-05-26T09:32:57.027071Z",
     "iopub.status.idle": "2023-05-26T09:32:57.679001Z",
     "shell.execute_reply": "2023-05-26T09:32:57.677769Z"
    },
    "papermill": {
     "duration": 0.670006,
     "end_time": "2023-05-26T09:32:57.681865",
     "exception": false,
     "start_time": "2023-05-26T09:32:57.011859",
     "status": "completed"
    },
    "tags": []
   },
   "outputs": [],
   "source": [
    "# Importing the necessary library for Random Forest classification\n",
    "from sklearn.ensemble import RandomForestClassifier\n",
    "\n",
    "# Creating an instance of the RandomForestClassifier\n",
    "model = RandomForestClassifier(random_state=42)\n",
    "\n",
    "# Fitting the model to the training data\n",
    "model.fit(X_train, y_train)\n",
    "\n",
    "# Predicting the target variable for the test data\n",
    "y_hat = model.predict(X_test)"
   ]
  },
  {
   "cell_type": "code",
   "execution_count": 21,
   "id": "a14c31dd",
   "metadata": {
    "execution": {
     "iopub.execute_input": "2023-05-26T09:32:57.711316Z",
     "iopub.status.busy": "2023-05-26T09:32:57.710846Z",
     "iopub.status.idle": "2023-05-26T09:32:57.729404Z",
     "shell.execute_reply": "2023-05-26T09:32:57.727954Z"
    },
    "papermill": {
     "duration": 0.036381,
     "end_time": "2023-05-26T09:32:57.731963",
     "exception": false,
     "start_time": "2023-05-26T09:32:57.695582",
     "status": "completed"
    },
    "tags": []
   },
   "outputs": [
    {
     "name": "stdout",
     "output_type": "stream",
     "text": [
      "Accuracy Score: 0.9733333333333334\n",
      "Precision: 1.0\n",
      "Recall: 0.9512195121951219\n",
      "F1 Score: 0.975\n"
     ]
    }
   ],
   "source": [
    "# Importing the necessary libraries for performance evaluation\n",
    "from sklearn.metrics import accuracy_score\n",
    "from sklearn.metrics import precision_score\n",
    "from sklearn.metrics import recall_score\n",
    "from sklearn.metrics import f1_score\n",
    "from sklearn.model_selection import GridSearchCV\n",
    "from sklearn.metrics import confusion_matrix\n",
    "\n",
    "print('Accuracy Score:', accuracy_score(y_test, y_hat))\n",
    "print('Precision:', precision_score(y_test, y_hat, average='binary'))\n",
    "print('Recall:', recall_score(y_test, y_hat, average='binary'))\n",
    "print('F1 Score:', f1_score(y_test, y_hat, average='binary') )"
   ]
  }
 ],
 "metadata": {
  "kernelspec": {
   "display_name": "Python 3",
   "language": "python",
   "name": "python3"
  },
  "language_info": {
   "codemirror_mode": {
    "name": "ipython",
    "version": 3
   },
   "file_extension": ".py",
   "mimetype": "text/x-python",
   "name": "python",
   "nbconvert_exporter": "python",
   "pygments_lexer": "ipython3",
   "version": "3.10.10"
  },
  "papermill": {
   "default_parameters": {},
   "duration": 20.796854,
   "end_time": "2023-05-26T09:32:58.870400",
   "environment_variables": {},
   "exception": null,
   "input_path": "__notebook__.ipynb",
   "output_path": "__notebook__.ipynb",
   "parameters": {},
   "start_time": "2023-05-26T09:32:38.073546",
   "version": "2.4.0"
  }
 },
 "nbformat": 4,
 "nbformat_minor": 5
}
